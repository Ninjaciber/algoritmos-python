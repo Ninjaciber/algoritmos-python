{
  "nbformat": 4,
  "nbformat_minor": 0,
  "metadata": {
    "colab": {
      "provenance": [],
      "authorship_tag": "ABX9TyOdt4T3vvlKkr8vHzrmh4fR",
      "include_colab_link": true
    },
    "kernelspec": {
      "name": "python3",
      "display_name": "Python 3"
    },
    "language_info": {
      "name": "python"
    }
  },
  "cells": [
    {
      "cell_type": "markdown",
      "metadata": {
        "id": "view-in-github",
        "colab_type": "text"
      },
      "source": [
        "<a href=\"https://colab.research.google.com/github/Ninjaciber/algoritmos-python/blob/main/ficha_variables.ipynb\" target=\"_parent\"><img src=\"https://colab.research.google.com/assets/colab-badge.svg\" alt=\"Open In Colab\"/></a>"
      ]
    },
    {
      "cell_type": "code",
      "source": [
        "Una variable en programación es como una etiqueta o un nombre que le pones a un espacio en la memoria de la computadora para guardar información. Imagina que tienes muchas cajas donde puedes guardar cosas. Cada caja necesita una etiqueta para que sepas qué hay dentro y puedas encontrarlo fácilmente. Esa etiqueta es la variable, y lo que guardas dentro de la caja es el valor de esa variable.\n",
        "\n",
        "Las variables te permiten guardar diferentes tipos de información, como números, texto o incluso colecciones de datos. Una vez que guardas algo en una variable, puedes usar ese nombre para referirte a ese valor en cualquier parte de tu programa, sin tener que escribir el valor directamente cada vez. También puedes cambiar el valor que está guardado en una variable cuando lo necesites.\n",
        "\n",
        "¿Por qué se usan las variables en Python?\n",
        "\n",
        "Simplifican la reutilización: En lugar de escribir el mismo dato varias veces, lo guardas en una variable y la usas cuando quieras.\n",
        "Mejoran la claridad del código: Un nombre de variable bien elegido explica qué tipo de información contiene, haciendo el código más fácil de entender.\n",
        "Facilitan la manipulación de datos: Puedes realizar operaciones con los valores guardados en las variables y modificarlos sin tener que buscarlos y cambiarlos directamente en todo el código.\n",
        "Ayudan a organizar el programa: Permiten guardar configuraciones, resultados temporales y el estado actual de tu programa de manera ordenada.\n",
        "¿Para qué se usan las variables en Python?\n",
        "\n",
        "Las variables son versátiles y se utilizan para almacenar una amplia gama de datos, incluyendo:\n",
        "\n",
        "Valores numéricos: Tanto números enteros (sin decimales) como números de coma flotante (con decimales).\n",
        "Texto: Secuencias de caracteres, también conocidas como cadenas.\n",
        "Colecciones de datos: Como listas (ordenadas y modificables) y diccionarios (pares de clave-valor).\n",
        "Valores lógicos: Verdadero (True) o falso (False).\n",
        "Elementos más complejos: Como objetos creados a partir de clases y funciones.\n",
        "\n",
        "Imagina que estás escribiendo un programa para calcular el área de un círculo.\n",
        "\n",
        "radio = 5  # Creamos una variable llamada 'radio' y le asignamos el valor 5\n",
        "pi = 3.14159 # Creamos una variable llamada 'pi' y le asignamos el valor de pi\n",
        "\n",
        "area = pi * radio * radio # Usamos las variables 'pi' y 'radio' para calcular el área y guardamos el resultado en la variable 'area'\n",
        "\n",
        "print(\"El área del círculo es:\", area) # Mostramos el valor guardado en la variable 'area'\n",
        "\n",
        "En este ejemplo:\n",
        "\n",
        "radio guarda la medida del radio del círculo.\n",
        "pi guarda el valor aproximado de la constante matemática pi.\n",
        "area guarda el resultado del cálculo del área, utilizando los valores de las otras dos variables."
      ],
      "metadata": {
        "id": "qKxSHV0lK3qy"
      },
      "execution_count": null,
      "outputs": []
    }
  ]
}