{
  "nbformat": 4,
  "nbformat_minor": 0,
  "metadata": {
    "colab": {
      "provenance": [],
      "authorship_tag": "ABX9TyPQH/CeMUXhUIN3LA07ODvz",
      "include_colab_link": true
    },
    "kernelspec": {
      "name": "python3",
      "display_name": "Python 3"
    },
    "language_info": {
      "name": "python"
    }
  },
  "cells": [
    {
      "cell_type": "markdown",
      "metadata": {
        "id": "view-in-github",
        "colab_type": "text"
      },
      "source": [
        "<a href=\"https://colab.research.google.com/github/Ninjaciber/algoritmos-python/blob/main/examen.ipynb\" target=\"_parent\"><img src=\"https://colab.research.google.com/assets/colab-badge.svg\" alt=\"Open In Colab\"/></a>"
      ]
    },
    {
      "cell_type": "code",
      "source": [
        "question 1 ###\n",
        "\n",
        "Python\n",
        "\n",
        "numeros_en_fila = [10, 20, 30, 40, 50] # Se declara una hilera de números.\n",
        "def mostrar_inicio(secuencia): # Se define una acción llamada 'mostrar_inicio' que recibe una secuencia.\n",
        "  for indice in range(1): # El bucle 'para' se ejecutará una sola vez (para el índice 0).\n",
        "    print(secuencia[0], secuencia[1]) # Se muestra el primer y segundo elemento de la secuencia.\n",
        "\n",
        "mostrar_inicio(numeros_en_fila) # Se activa la acción con nuestra hilera de números.\n",
        "\n",
        "# Observación: Solo se imprimen los dos primeros números porque el 'rango' del ciclo 'para' es de solo 1,\n",
        "# limitando la iteración a la primera posición (índice 0), y luego accedemos directamente a los índices 0 y 1.\n",
        "20 30\n",
        "question 2 ###\n",
        "\n",
        "Python\n",
        "\n",
        "elementos_variados = [\"uno\", \"dos\", \"tres\", {\"clave\": \"valor especial\"}, \"cuatro\"]\n",
        "elementos_variados[3] # Se accede directamente al componente ubicado en la cuarta posición (índice 3) de la lista.\n",
        "\n",
        "# Observación: No hay un ciclo 'para' aquí. Se está solicitando un elemento específico por su ubicación dentro de la lista.\n",
        "# La respuesta será el diccionario que se encuentra en esa posición.\n",
        "{'clave': 'valor especial'}\n",
        "question 3 ###\n",
        "\n",
        "Python\n",
        "\n",
        "instrumentos = [\"guitarra\", \"bajo\", \"batería\", \"teclado\"] # Se establece una colección de instrumentos musicales.\n",
        "for item in instrumentos: # El 'bucle para' toma cada 'instrumento' de la colección 'instrumentos' en orden.\n",
        "    print(item) # Se muestra en pantalla cada 'instrumento' individualmente.\n",
        "\n",
        "# Observación: El 'bucle para' recorre toda la 'colección' de 'instrumentos', imprimiendo cada uno hasta el final.\n",
        "# La variable 'item' toma el valor de cada instrumento en cada paso del bucle.\n",
        "guitarra\n",
        "bajo\n",
        "batería\n",
        "teclado\n",
        "question 4 ###\n",
        "\n",
        "Python\n",
        "\n",
        "contactos = [ # Se define una lista de 'contactos', donde cada contacto es un registro (diccionario) con nombre y teléfono.\n",
        "    {\"nombre\": \"Ricardo\", \"telefono\": \"+57-300-123-4567\"},\n",
        "    {\"nombre\": \"Mariana\", \"telefono\": \"+57-311-987-6543\"},\n",
        "    {\"nombre\": \"Javier\", \"telefono\": \"+57-315-555-1212\"}\n",
        "]\n",
        "\n",
        "nombre_a_buscar = input(\"¿A quién buscas?: \") # Se le pregunta al usuario el nombre del contacto.\n",
        "for persona in contactos: # El 'bucle para' examina cada 'persona' (registro) en la lista de 'contactos'.\n",
        "    if persona[\"nombre\"] == nombre_a_buscar: # Se verifica si el valor de la clave \"nombre\" coincide con el nombre buscado.\n",
        "        numero_telefono = persona[\"telefono\"]\n",
        "        print(f\"El número de {numero_a_buscar} es: {numero_telefono}\") # Se muestra el número de teléfono si se encuentra el nombre.\n",
        "        break # Se detiene el 'bucle' al encontrar el contacto.\n",
        "else: # Si el 'bucle' termina sin encontrar el nombre...\n",
        "    print(\"Contacto no encontrado.\") # ...se informa que no se halló.\n",
        "\n",
        "# Observación: El 'bucle para' se utiliza para buscar un registro específico dentro de la lista de 'contactos'\n",
        "# basándose en el nombre ingresado por el usuario. La instrucción 'break' finaliza el bucle al encontrar una coincidencia.\n"
      ],
      "metadata": {
        "id": "JyuNKGg8zRh4"
      },
      "execution_count": null,
      "outputs": []
    }
  ]
}