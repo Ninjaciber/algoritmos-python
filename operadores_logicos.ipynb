{
  "nbformat": 4,
  "nbformat_minor": 0,
  "metadata": {
    "colab": {
      "provenance": [],
      "authorship_tag": "ABX9TyNSUUM2opZyNPSX9zp8waer",
      "include_colab_link": true
    },
    "kernelspec": {
      "name": "python3",
      "display_name": "Python 3"
    },
    "language_info": {
      "name": "python"
    }
  },
  "cells": [
    {
      "cell_type": "markdown",
      "metadata": {
        "id": "view-in-github",
        "colab_type": "text"
      },
      "source": [
        "<a href=\"https://colab.research.google.com/github/Ninjaciber/algoritmos-python/blob/main/operadores_logicos.ipynb\" target=\"_parent\"><img src=\"https://colab.research.google.com/assets/colab-badge.svg\" alt=\"Open In Colab\"/></a>"
      ]
    },
    {
      "cell_type": "code",
      "source": [
        "¿Qué son los conectores lógicos?\n",
        "\n",
        "En el mundo de la programación con Python, los conectores lógicos son símbolos especiales que nos permiten trabajar con valores de verdad (cierto o falso) y enlazar diferentes condiciones. Los conectores lógicos fundamentales son:\n",
        "\n",
        "Conector\tSignificado\tEjemplo\tResultado\n",
        "and\tDevuelve cierto solo si ambas afirmaciones son ciertas\tcierto and falso\tfalso\n",
        "or\tDevuelve cierto si al menos una afirmación es cierta\tcierto or falso\tcierto\n",
        "not\tCambia el valor de cierto a falso y viceversa\tnot cierto\tfalso\n",
        "\n",
        "Exportar a Hojas de cálculo\n",
        "Ejemplo:\n",
        "\n",
        "Python\n",
        "\n",
        "# Establecimiento de valores de verdad\n",
        "estado1 = 10 > 5   # La etiqueta 'estado1' guarda el resultado de la comparación (cierto)\n",
        "estado2 = 3 == 7   # La etiqueta 'estado2' guarda el resultado de la comparación (falso)\n",
        "\n",
        "# Evaluación de condiciones\n",
        "resultado_and = estado1 and estado2  # Evalúa si 'estado1' y 'estado2' son ciertos (falso)\n",
        "resultado_or = estado1 or estado2    # Evalúa si 'estado1' o 'estado2' es cierto (cierto)\n",
        "resultado_not = not estado1         # Invierte el valor de 'estado1' (falso)\n",
        "\n",
        "# Presentación de los resultados\n",
        "print(\"¿Ambos ciertos?:\", resultado_and) # Muestra en pantalla \"¿Ambos ciertos?:\", seguido del valor de 'resultado_and'\n",
        "print(\"¿Al menos uno cierto?:\", resultado_or) # Muestra en pantalla \"¿Al menos uno cierto?:\", seguido del valor de 'resultado_or'\n",
        "print(\"Negación del primero:\", resultado_not) # Muestra en pantalla \"Negación del primero:\", seguido del valor de 'resultado_not'\n",
        "En la programación, estos conectores son muy utilizados en las estructuras de decisión (como las sentencias if) y en la verificación de condiciones de seguridad."
      ],
      "metadata": {
        "id": "BmJLtCMcs6EB"
      },
      "execution_count": null,
      "outputs": []
    }
  ]
}