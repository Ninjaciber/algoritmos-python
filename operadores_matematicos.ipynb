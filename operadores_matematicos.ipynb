{
  "nbformat": 4,
  "nbformat_minor": 0,
  "metadata": {
    "colab": {
      "provenance": [],
      "authorship_tag": "ABX9TyPV+i5CL7xvBxGLriR1QYQ8",
      "include_colab_link": true
    },
    "kernelspec": {
      "name": "python3",
      "display_name": "Python 3"
    },
    "language_info": {
      "name": "python"
    }
  },
  "cells": [
    {
      "cell_type": "markdown",
      "metadata": {
        "id": "view-in-github",
        "colab_type": "text"
      },
      "source": [
        "<a href=\"https://colab.research.google.com/github/Ninjaciber/algoritmos-python/blob/main/operadores_matematicos.ipynb\" target=\"_parent\"><img src=\"https://colab.research.google.com/assets/colab-badge.svg\" alt=\"Open In Colab\"/></a>"
      ]
    },
    {
      "cell_type": "code",
      "source": [
        "¿Qué son los símbolos matemáticos en Python?\n",
        "\n",
        "En el lenguaje de programación Python, los símbolos matemáticos son signos especiales que nos permiten llevar a cabo operaciones de aritmética y lógica con valores numéricos. Estos símbolos son las herramientas fundamentales para efectuar cálculos, trabajar con información numérica y tomar decisiones dentro de nuestros programas basándonos en resultados numéricos.\n",
        "\n",
        "Tabla de símbolos aritméticos básicos\n",
        "\n",
        "Símbolo\tSignificado\tEjemplo\tResultado\n",
        "+\tAdición\t8 + 2\t10\n",
        "-\tSustracción\t8 - 2\t6\n",
        "*\tMultiplicación\t8 * 2\t16\n",
        "/\tDivisión (resultado decimal)\t8 / 3\t2.666...\n",
        "//\tDivisión entera\t8 // 3\t2\n",
        "%\tMódulo (residuo de la división)\t8 % 3\t2\n",
        "**\tExponenciación\t8 ** 2\t64\n",
        "\n",
        "Exportar a Hojas de cálculo\n",
        "Ejemplo:\n",
        "\n",
        "Python\n",
        "\n",
        "# Asignación de valores a las etiquetas\n",
        "numero1 = 15  # La etiqueta 'numero1' ahora representa el valor entero 15\n",
        "numero2 = 4   # La etiqueta 'numero2' ahora representa el valor entero 4\n",
        "\n",
        "# Ejecución de operaciones\n",
        "total = numero1 + numero2         # Se calcula la adición de 'numero1' y 'numero2', y el resultado (19) se guarda en 'total'\n",
        "diferencia = numero1 - numero2    # Se calcula la sustracción de 'numero2' a 'numero1', y el resultado (11) se guarda en 'diferencia'\n",
        "producto_total = numero1 * numero2 # Se calcula la multiplicación de 'numero1' y 'numero2', y el resultado (60) se guarda en 'producto_total'\n",
        "cociente_real = numero1 / numero2   # Se calcula la división de 'numero1' entre 'numero2', y el resultado (3.75) se guarda en 'cociente_real'\n",
        "cociente_exacto = numero1 // numero2 # Se calcula la división entera de 'numero1' entre 'numero2', y el resultado (3) se guarda en 'cociente_exacto'\n",
        "restante = numero1 % numero2       # Se calcula el residuo de la división de 'numero1' entre 'numero2', y el resultado (3) se guarda en 'restante'\n",
        "potencia_calculada = numero1 ** numero2 # Se calcula 'numero1' elevado a la potencia de 'numero2', y el resultado (50625) se guarda en 'potencia_calculada'\n",
        "\n",
        "# Presentación de los resultados\n",
        "print(\"Suma:\", total)                 # Se muestra en la pantalla el texto \"Suma:\" seguido del valor de 'total'\n",
        "print(\"Resta:\", diferencia)            # Se muestra en la pantalla el texto \"Resta:\" seguido del valor de 'diferencia'\n",
        "print(\"Multiplicación:\", producto_total) # Se muestra en la pantalla el texto \"Multiplicación:\" seguido del valor de 'producto_total'\n",
        "print(\"División:\", cociente_real)       # Se muestra en la pantalla el texto \"División:\" seguido del valor de 'cociente_real'\n",
        "print(\"División Entera:\", cociente_exacto) # Se muestra en la pantalla el texto \"División Entera:\" seguido del valor de 'cociente_exacto'\n",
        "print(\"Módulo:\", restante)              # Se muestra en la pantalla el texto \"Módulo:\" seguido del valor de 'restante'\n",
        "print(\"Potencia:\", potencia_calculada)   # Se muestra en la pantalla el texto \"Potencia:\" seguido del valor de 'potencia_calculada'\n",
        "¿Por qué se utilizan los operadores matemáticos en Python?\n",
        "\n",
        "Cálculos sencillos y rápidos: Facilitan la realización de operaciones matemáticas de manera eficiente y directa.\n",
        "Automatización de procesos numéricos: Permiten crear programas que ejecutan tareas de cálculo de forma automática.\n",
        "Trabajo con datos numéricos: Son esenciales para manipular, analizar y procesar información numérica en diversas aplicaciones.\n",
        "Creación de algoritmos: Son componentes fundamentales en el desarrollo de algoritmos para resolver problemas matemáticos y de programación.\n",
        "¿Para qué sirven los operadores matemáticos en Python?\n",
        "\n",
        "Se emplean para llevar a cabo una variedad de cálculos matemáticos, que incluyen:\n",
        "\n",
        "Operadores aritméticos básicos\n",
        "Adición, sustracción, multiplicación y división para cálculos fundamentales.\n",
        "Obtención del residuo de una división.\n",
        "Cálculo de la potencia de un número.\n",
        "División que solo considera la parte entera del resultado.\n",
        "Operadores matemáticos avanzados (utilizando módulos)\n",
        "Ejemplo:\n",
        "\n",
        "Python\n",
        "\n",
        "import math\n",
        "\n",
        "print(math.sqrt(81))   # Calcula la raíz cuadrada (9.0)\n",
        "print(math.exp(3))    # Calcula el número de Euler elevado a la potencia dada (aproximadamente 20.08)\n",
        "print(math.tan(math.radians(45)))  # Calcula la tangente de 45 grados (1.0)\n",
        "print(math.log2(16))  # Calcula el logaritmo en base 2 (4.0)\n",
        "Usos en la seguridad cibernética\n",
        "Algoritmos de cifrado y hash: Operaciones matemáticas complejas son la base de algoritmos como SHA-3, Blowfish, entre otros.\n",
        "Criptografía de llave pública: La operación de exponenciación modular (pow(base, exponente, modulo)) es crucial en sistemas como el algoritmo Diffie-Hellman.\n",
        "Análisis de información y detección de anomalías: Se aplican operaciones matemáticas en el análisis estadístico y la identificación de patrones inusuales en datos de seguridad."
      ],
      "metadata": {
        "id": "KbZN5tL0rH8F"
      },
      "execution_count": null,
      "outputs": []
    }
  ]
}