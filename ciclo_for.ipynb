{
  "nbformat": 4,
  "nbformat_minor": 0,
  "metadata": {
    "colab": {
      "provenance": [],
      "authorship_tag": "ABX9TyPj/Uk+DmxnS8wT5URso7K+",
      "include_colab_link": true
    },
    "kernelspec": {
      "name": "python3",
      "display_name": "Python 3"
    },
    "language_info": {
      "name": "python"
    }
  },
  "cells": [
    {
      "cell_type": "markdown",
      "metadata": {
        "id": "view-in-github",
        "colab_type": "text"
      },
      "source": [
        "<a href=\"https://colab.research.google.com/github/Ninjaciber/algoritmos-python/blob/main/ciclo_for.ipynb\" target=\"_parent\"><img src=\"https://colab.research.google.com/assets/colab-badge.svg\" alt=\"Open In Colab\"/></a>"
      ]
    },
    {
      "cell_type": "code",
      "source": [
        "¿Qué es el ciclo for en Python?\n",
        "\n",
        "En el universo de la programación con Python, el ciclo for actúa como un \"recorredor de elementos\". Imagina que tienes una fila de objetos o una lista de nombres. El ciclo for te permite tomar cada uno de esos objetos o nombres, uno por uno, y realizar una acción específica con cada uno de ellos. Es una forma elegante y automática de procesar cada ítem dentro de una colección.\n",
        "\n",
        "Ejemplos:\n",
        "\n",
        "Python\n",
        "\n",
        "nombres_visitantes = [\"Sofía\", \"Mateo\", \"Isabela\"] # Aquí tenemos una lista de nombres de visitantes.\n",
        "for visitante in nombres_visitantes: # El 'for' va a tomar cada nombre de la lista y lo asignará temporalmente a la etiqueta 'visitante'.\n",
        "    print(f\"Damos la bienvenida a {visitante}.\") # Para cada visitante, mostramos un mensaje de bienvenida personalizado.\n",
        "\n",
        "inventario_frutas = {\"manzana\": 10, \"pera\": 15, \"uva\": 25} # Este es un registro de frutas y la cantidad que tenemos de cada una.\n",
        "for fruta, cantidad in inventario_frutas.items(): # El 'for' va a examinar cada par de 'fruta' y 'cantidad' en nuestro registro.\n",
        "    print(f\"Hay {cantidad} unidades de {fruta} en el almacén.\") # Para cada fruta, informamos la cantidad disponible.\n",
        "¿Cuál es su utilidad principal?\n",
        "\n",
        "Automatización de tareas repetitivas: En lugar de escribir la misma operación para cada dato, el ciclo for lo hace automáticamente por ti.\n",
        "Paseo a través de conjuntos de datos: Te permite visitar cada rincón de tus listas, diccionarios o cualquier otra colección de información.\n",
        "Procesamiento eficiente de la información: Facilita la aplicación de transformaciones, filtros o cálculos a cada elemento de un grupo de datos.\n",
        "Exploración de datos: Es una herramienta clave para examinar el contenido de tus colecciones de datos en busca de patrones o información específica.\n",
        "Aplicación de acciones en lote: Permite ejecutar la misma serie de pasos para cada miembro de un conjunto."
      ],
      "metadata": {
        "id": "NuagpgxgxaoW"
      },
      "execution_count": null,
      "outputs": []
    }
  ]
}