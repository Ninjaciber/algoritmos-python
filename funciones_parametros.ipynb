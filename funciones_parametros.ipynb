{
  "nbformat": 4,
  "nbformat_minor": 0,
  "metadata": {
    "colab": {
      "provenance": [],
      "authorship_tag": "ABX9TyMUGVBRsp+2Q7kNDBWAkV7O",
      "include_colab_link": true
    },
    "kernelspec": {
      "name": "python3",
      "display_name": "Python 3"
    },
    "language_info": {
      "name": "python"
    }
  },
  "cells": [
    {
      "cell_type": "markdown",
      "metadata": {
        "id": "view-in-github",
        "colab_type": "text"
      },
      "source": [
        "<a href=\"https://colab.research.google.com/github/Ninjaciber/algoritmos-python/blob/main/funciones_parametros.ipynb\" target=\"_parent\"><img src=\"https://colab.research.google.com/assets/colab-badge.svg\" alt=\"Open In Colab\"/></a>"
      ]
    },
    {
      "cell_type": "code",
      "source": [
        "¿Qué son las rutinas y los datos de entrada en Python?\n",
        "\n",
        "En el lenguaje de programación Python, las rutinas (también conocidas como funciones) son fragmentos de código reutilizables diseñados para llevar a cabo una tarea específica. Estas herramientas nos ayudan a organizar mejor nuestro código, evitando repeticiones innecesarias y simplificando su mantenimiento.\n",
        "\n",
        "Una rutina se define utilizando la palabra clave def, seguida de un nombre descriptivo, un par de paréntesis (donde se especifican los datos de entrada, llamados parámetros) y dos puntos (:). El bloque de código que conforma la rutina contiene las instrucciones que se ejecutarán cada vez que la llamemos.\n",
        "\n",
        "Los datos de entrada, o parámetros, son variables que se proporcionan a una rutina para modificar su comportamiento. Los valores concretos que enviamos a estos parámetros cuando usamos la rutina se denominan argumentos.\n",
        "\n",
        "Tipos de datos de entrada (parámetros) en Python:\n",
        "\n",
        "Python nos ofrece diversas maneras de definir los datos de entrada de una rutina:\n",
        "\n",
        "Datos de entrada posicionales (el orden importa):\n",
        "Python\n",
        "\n",
        "def multiplicar(factor1, factor2): # Define una rutina llamada 'multiplicar' que espera dos datos de entrada: 'factor1' y 'factor2'.\n",
        "    return factor1 * factor2 # Dentro de la rutina, se devuelve el resultado de multiplicar 'factor1' por 'factor2'.\n",
        "\n",
        "resultado_multiplicacion = multiplicar(7, 6) # Se llama a la rutina 'multiplicar' con los argumentos 7 y 6. El valor devuelto (42) se guarda en 'resultado_multiplicacion'.\n",
        "print(resultado_multiplicacion) # Muestra en la pantalla el valor de 'resultado_multiplicacion' (que es 42).\n",
        "Datos de entrada con valores predeterminados (opcionales):\n",
        "Python\n",
        "\n",
        "def presentar(nombre, saludo=\"¡Hola!\"): # Define una rutina llamada 'presentar' que espera un dato de entrada 'nombre' y otro opcional 'saludo' con el valor predeterminado \"¡Hola!\".\n",
        "    print(f\"{saludo}, {nombre}.\") # Dentro, se muestra un mensaje combinando el saludo y el nombre.\n",
        "\n",
        "presentar(\"Carlos\")      # Se llama a la rutina 'presentar' solo con el argumento para 'nombre'. Se usará el saludo predeterminado.\n",
        "presentar(\"Sofía\", \"Saludos cordiales\") # Se llama a la rutina 'presentar' proporcionando valores para ambos datos de entrada.\n",
        "*Datos de entrada variables (args) (para recibir múltiples valores sin nombre):\n",
        "Python\n",
        "\n",
        "def concatenar(*textos): # Define una rutina llamada 'concatenar' que puede recibir una cantidad variable de argumentos posicionales, agrupándolos en una tupla llamada 'textos'.\n",
        "    return \" \".join(textos) # Se unen todos los elementos de la tupla 'textos' en una sola cadena, separados por espacios.\n",
        "\n",
        "frase = concatenar(\"Esto\", \"es\", \"un\", \"ejemplo.\") # Se llama a la rutina con varias palabras.\n",
        "print(frase) # Se muestra la frase resultante: \"Esto es un ejemplo.\"\n",
        "**Datos de entrada con nombre clave (kwargs) (para recibir argumentos con nombres):\n",
        "Python\n",
        "\n",
        "def describir_persona(**detalles): # Define una rutina llamada 'describir_persona' que puede recibir una cantidad variable de argumentos con nombre clave, agrupándolos en un diccionario llamado 'detalles'.\n",
        "    for etiqueta, valor_asociado in detalles.items(): # Se recorren los pares clave-valor del diccionario 'detalles'.\n",
        "        print(f\"{etiqueta}: {valor_asociado}\") # Se muestra cada etiqueta y su valor correspondiente.\n",
        "\n",
        "describir_persona(nombre=\"Elena\", profesion=\"Ingeniera\", edad=30) # Se llama a la rutina proporcionando información con nombres.\n",
        "Rutinas sin datos de entrada:\n",
        "\n",
        "Python\n",
        "\n",
        "def mostrar_mensaje():\n",
        "  print(\"¡Bienvenido a Bello!\")\n",
        "\n",
        "mostrar_mensaje() # Llamada a la rutina\n",
        "Rutinas con datos de entrada:\n",
        "\n",
        "Python\n",
        "\n",
        "def mostrar_doble(numero):\n",
        "  doble = numero * 2\n",
        "  print(f\"El doble de {numero} es {doble}\")\n",
        "\n",
        "mostrar_doble(12) # Llamada a la rutina con el argumento 12"
      ],
      "metadata": {
        "id": "c-qSfEjwvfDp"
      },
      "execution_count": null,
      "outputs": []
    }
  ]
}