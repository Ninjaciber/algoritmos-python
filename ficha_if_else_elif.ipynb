{
  "nbformat": 4,
  "nbformat_minor": 0,
  "metadata": {
    "colab": {
      "provenance": [],
      "authorship_tag": "ABX9TyNKkBbcPxXlV05AlqEyc/Gp",
      "include_colab_link": true
    },
    "kernelspec": {
      "name": "python3",
      "display_name": "Python 3"
    },
    "language_info": {
      "name": "python"
    }
  },
  "cells": [
    {
      "cell_type": "markdown",
      "metadata": {
        "id": "view-in-github",
        "colab_type": "text"
      },
      "source": [
        "<a href=\"https://colab.research.google.com/github/Ninjaciber/algoritmos-python/blob/main/ficha_if_else_elif.ipynb\" target=\"_parent\"><img src=\"https://colab.research.google.com/assets/colab-badge.svg\" alt=\"Open In Colab\"/></a>"
      ]
    },
    {
      "cell_type": "code",
      "execution_count": null,
      "metadata": {
        "id": "IwCtE7sCHhU2"
      },
      "outputs": [],
      "source": [
        "¿Que es if/else y elif en Python?\n",
        "En Python, if, elif y else son herramientas fundamentales para que tu programa tome decisiones. Piensa en ellas como una serie de preguntas que el código se hace para saber qué camino seguir.\n",
        "\n",
        "if: Imagina que es la primera pregunta. Si la respuesta a esta pregunta es \"sí\" (verdadero), entonces se ejecuta un bloque específico de instrucciones. Si la respuesta es \"no\" (falso), el programa pasa a la siguiente posibilidad.\n",
        "\n",
        "else: Esta es como la respuesta por defecto. Si ninguna de las preguntas anteriores (if o los elif) obtuvo un \"sí\", entonces se ejecuta el bloque de código asociado con el else. Es el \"en cualquier otro caso\".\n",
        "\n",
        "elif: Piensa en elif como preguntas adicionales que solo se hacen si la pregunta if inicial fue \"no\". Puedes tener varias sentencias elif, cada una con su propia condición a evaluar. Si una de estas condiciones elif es verdadera, se ejecuta su bloque de código correspondiente y el resto de las preguntas (elif o else) se omiten.\n",
        "\n",
        "¿Por qué se usan?\n",
        "\n",
        "Para dirigir el flujo del programa: Permiten que diferentes partes de tu código se ejecuten según ciertas circunstancias.\n",
        "Para optimizar la ejecución: Evitan que se ejecuten porciones de código que no son necesarias en una situación dada.\n",
        "Para manejar diversas situaciones: Hacen que tus programas sean más flexibles y capaces de responder a diferentes entradas o estados.\n",
        "En seguridad informática: Son cruciales para identificar comportamientos sospechosos, restringir accesos no permitidos y activar respuestas ante incidentes de seguridad.\n",
        "¿Para qué se usan?\n",
        "\n",
        "Se emplean en una gran variedad de escenarios, incluyendo:\n",
        "\n",
        "Verificar la identidad de un usuario.\n",
        "Observar intentos de acceso a un sistema.\n",
        "Clasificar el tráfico de red en ciberseguridad.\n",
        "Ejemplo:\n",
        "\n",
        "Imagina que estás creando un programa para determinar si un estudiante aprobó o no un examen.\n",
        "\n",
        "Python\n",
        "\n",
        "calificacion = 75\n",
        "\n",
        "if calificacion >= 70:\n",
        "    print(\"¡Felicidades, has aprobado!\")\n",
        "elif calificacion >= 60:\n",
        "    print(\"Estuviste cerca, necesitas mejorar un poco.\")\n",
        "else:\n",
        "    print(\"Lo siento, has reprobado. ¡A estudiar más!\")\n",
        "En este ejemplo:\n",
        "\n",
        "Primero, se evalúa si la calificacion es mayor o igual a 70. Si lo es, se imprime \"¡Felicidades, has aprobado!\" y el resto del bloque if-elif-else se ignora.\n",
        "Si la primera condición es falsa (la calificación es menor de 70), se evalúa la siguiente condición elif: si la calificacion es mayor o igual a 60. Si es verdadera, se imprime \"Estuviste cerca, necesitas mejorar un poco.\" y se omite el else.\n",
        "Si ambas condiciones anteriores son falsas (la calificación es menor de 60), entonces se ejecuta el bloque de código dentro del else, imprimiendo \"Lo siento, has reprobado. ¡A estudiar más!\"."
      ]
    }
  ]
}